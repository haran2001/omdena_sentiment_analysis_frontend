{
 "cells": [
  {
   "cell_type": "code",
   "execution_count": 2,
   "id": "f6167652-a50c-4af4-8f78-ef4b3b808562",
   "metadata": {},
   "outputs": [
    {
     "name": "stdout",
     "output_type": "stream",
     "text": [
      "AnalyzerOutput(output=POS, probas={POS: 0.946, NEU: 0.037, NEG: 0.017})\n"
     ]
    }
   ],
   "source": [
    "from pysentimiento import create_analyzer\n",
    "analyzer = create_analyzer(task=\"sentiment\", lang=\"es\")\n",
    "\n",
    "out = analyzer.predict(\"Qué gran jugador es Messi\")\n",
    "# returns AnalyzerOutput(output=POS, probas={POS: 0.998, NEG: 0.002, NEU: 0.000})\n"
   ]
  },
  {
   "cell_type": "code",
   "execution_count": 3,
   "id": "0c1f54aa-c438-4e9f-b4f7-4e5a1c39f558",
   "metadata": {},
   "outputs": [
    {
     "name": "stdout",
     "output_type": "stream",
     "text": [
      "POS\n"
     ]
    }
   ],
   "source": [
    "print(out.output)"
   ]
  },
  {
   "cell_type": "code",
   "execution_count": 4,
   "id": "af5ab6f6-f76c-4539-abb1-7d8680475cc7",
   "metadata": {},
   "outputs": [
    {
     "name": "stdout",
     "output_type": "stream",
     "text": [
      "{'NEG': 0.017095135524868965, 'NEU': 0.03709329292178154, 'POS': 0.9458115696907043}\n"
     ]
    }
   ],
   "source": [
    "print(out.probas)"
   ]
  },
  {
   "cell_type": "code",
   "execution_count": 5,
   "id": "e2f89cdb-d94f-4d1d-8e2c-5af90e01de15",
   "metadata": {},
   "outputs": [],
   "source": [
    "out = analyzer.predict(\"Qué gran jugador es Messi\")"
   ]
  },
  {
   "cell_type": "code",
   "execution_count": null,
   "id": "39ed39db-51f8-4201-b80d-752db74f1f0d",
   "metadata": {},
   "outputs": [],
   "source": []
  }
 ],
 "metadata": {
  "kernelspec": {
   "display_name": "Python 3 (ipykernel)",
   "language": "python",
   "name": "python3"
  },
  "language_info": {
   "codemirror_mode": {
    "name": "ipython",
    "version": 3
   },
   "file_extension": ".py",
   "mimetype": "text/x-python",
   "name": "python",
   "nbconvert_exporter": "python",
   "pygments_lexer": "ipython3",
   "version": "3.8.18"
  }
 },
 "nbformat": 4,
 "nbformat_minor": 5
}
