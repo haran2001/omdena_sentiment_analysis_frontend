{
 "cells": [
  {
   "cell_type": "code",
   "execution_count": null,
   "id": "f6167652-a50c-4af4-8f78-ef4b3b808562",
   "metadata": {},
   "outputs": [],
   "source": [
    "from transformers import TFBertModel\n",
    "\n",
    "# Load the pre-trained BERT model\n",
    "model = TFBertModel.from_pretrained(\"bert-base-cased\")"
   ]
  }
 ],
 "metadata": {
  "kernelspec": {
   "display_name": "Python 3 (ipykernel)",
   "language": "python",
   "name": "python3"
  },
  "language_info": {
   "codemirror_mode": {
    "name": "ipython",
    "version": 3
   },
   "file_extension": ".py",
   "mimetype": "text/x-python",
   "name": "python",
   "nbconvert_exporter": "python",
   "pygments_lexer": "ipython3",
   "version": "3.8.18"
  }
 },
 "nbformat": 4,
 "nbformat_minor": 5
}
